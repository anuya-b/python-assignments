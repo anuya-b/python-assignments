{
 "cells": [
  {
   "cell_type": "code",
   "execution_count": 1,
   "metadata": {},
   "outputs": [],
   "source": [
    "# 1) Create 5-5 variables of all different data structures\n",
    "# 2) Create List of dictionary of user data with minimum 5 users' data\n",
    "# 3) Find Minimum and Maximum value from 3 values\n",
    "\n",
    "\n",
    "# 4) Find Minimum and Maximum from 10 numbers, without using in built function min or max\n",
    "# 5) Create following patterns\n",
    "# a)                  b)              \n",
    "# 0 0 0 0 0           0\n",
    "# 1 1 1 1 1           1 0\n",
    "# 0 0 0 0 0           0 1 0\n",
    "# 1 1 1 1 1           1 0 1 0\n",
    "# 0 0 0 0 0           0 1 0 1 0\n",
    "\n",
    "# c)                  d)                 \n",
    "# 01 02 03 04 05      1 0 1 0 1\n",
    "# 06 07 08 09 10      0 1 0 1\n",
    "# 11 12 13 14 15      1 0 1\n",
    "# 16 17 18 19 20      0 1\n",
    "# 21 22 23 24 25      1\n",
    "\n",
    "# e)                  f)              g)                  h)\n",
    "#       1             * *   * *       01 02 03 04 05      2\n",
    "#    1    1           *  * *  *       05 04 03 02 01      2 4\n",
    "#   1   1   1         *   *   *       02 04 06 08 10      2 4 8\n",
    "# 1   1   1   1       *       *       10 08 06 04 02      2 4 8 16\n",
    "#                     *       *       03 06 09 12 15      2 4 8 16 32\n",
    "#                                     15 12 09 06 03      2 4 8 16 32 64\n",
    "# m) if input is 3\n",
    "# ----c----\n",
    "# --c-b-c--\n",
    "# c-b-a-b-c\n",
    "# --c-b-c--\n",
    "# ----c----\n",
    "\n",
    "# if input is 5\n",
    "# --------e--------\n",
    "# ------e-d-e------\n",
    "# ----e-d-c-d-e----\n",
    "# --e-d-c-b-c-d-e--\n",
    "# e-d-c-b-a-b-c-d-e\n",
    "# --e-d-c-b-c-d-e--\n",
    "# ----e-d-c-d-e----\n",
    "# ------e-d-e------\n",
    "# --------e--------\n",
    "\n",
    "# 6) Write generator to create prime number series\n",
    "# 7) Create list of odd numbers using list comprehension\n",
    "# 8) Create dictionary which have key as a number and value as a its power of 2\n",
    "# 9) Program to accept the strings which contains all vowels\n",
    "# 10) Check if input number is Palindrome numbers or not\n"
   ]
  },
  {
   "cell_type": "code",
   "execution_count": 23,
   "metadata": {},
   "outputs": [],
   "source": []
  },
  {
   "cell_type": "code",
   "execution_count": 1,
   "metadata": {},
   "outputs": [
    {
     "name": "stdout",
     "output_type": "stream",
     "text": [
      "Enter name of user: \n"
     ]
    },
    {
     "name": "stdin",
     "output_type": "stream",
     "text": [
      " asda\n"
     ]
    },
    {
     "name": "stdout",
     "output_type": "stream",
     "text": [
      "Enter name of user: \n"
     ]
    },
    {
     "name": "stdin",
     "output_type": "stream",
     "text": [
      " gdfg\n"
     ]
    },
    {
     "name": "stdout",
     "output_type": "stream",
     "text": [
      "Enter name of user: \n"
     ]
    },
    {
     "name": "stdin",
     "output_type": "stream",
     "text": [
      " gfg\n"
     ]
    },
    {
     "name": "stdout",
     "output_type": "stream",
     "text": [
      "Enter name of user: \n"
     ]
    },
    {
     "name": "stdin",
     "output_type": "stream",
     "text": [
      " fdfh\n"
     ]
    },
    {
     "name": "stdout",
     "output_type": "stream",
     "text": [
      "Enter name of user: \n"
     ]
    },
    {
     "name": "stdin",
     "output_type": "stream",
     "text": [
      " gdg\n"
     ]
    },
    {
     "data": {
      "text/plain": [
       "[{'name': 'asda'},\n",
       " {'name': 'gdfg'},\n",
       " {'name': 'gfg'},\n",
       " {'name': 'fdfh'},\n",
       " {'name': 'gdg'}]"
      ]
     },
     "execution_count": 1,
     "metadata": {},
     "output_type": "execute_result"
    }
   ],
   "source": [
    "# 2) Create List of dictionary of user data with minimum 5 users' data\n",
    "user_list = list()\n",
    "user_dict = dict()\n",
    "for i in range(5):\n",
    "    print('Enter name of user: ')\n",
    "    user_dict['name'] = str(input())\n",
    "    user_list.append(user_dict.copy())\n",
    "user_list"
   ]
  },
  {
   "cell_type": "code",
   "execution_count": 2,
   "metadata": {},
   "outputs": [
    {
     "data": {
      "text/plain": [
       "[{'name': 'asda'},\n",
       " {'name': 'gdfg'},\n",
       " {'name': 'gfg'},\n",
       " {'name': 'fdfh'},\n",
       " {'name': 'gdg'}]"
      ]
     },
     "execution_count": 2,
     "metadata": {},
     "output_type": "execute_result"
    }
   ],
   "source": [
    "user_list"
   ]
  },
  {
   "cell_type": "code",
   "execution_count": 41,
   "metadata": {},
   "outputs": [
    {
     "name": "stdout",
     "output_type": "stream",
     "text": [
      "0 0 0 0 0 \n",
      "1 1 1 1 1 \n",
      "0 0 0 0 0 \n",
      "1 1 1 1 1 \n",
      "0 0 0 0 0 \n"
     ]
    }
   ],
   "source": [
    "# 0 0 0 0 0\n",
    "# 1 1 1 1 1\n",
    "# 0 0 0 0 0\n",
    "# 1 1 1 1 1\n",
    "# 0 0 0 0 0\n",
    "\n",
    "for i in range(5):\n",
    "    for j in range(5):\n",
    "#         if(i%2 == 0):\n",
    "        print(i%2, end = ' ')\n",
    "#         else:\n",
    "#             print(i%2, end = ' ')\n",
    "    print()"
   ]
  },
  {
   "cell_type": "code",
   "execution_count": 67,
   "metadata": {},
   "outputs": [
    {
     "name": "stdout",
     "output_type": "stream",
     "text": [
      "\n",
      "0 \n",
      "1 0 \n",
      "0 1 0 \n",
      "1 0 1 0 \n",
      "0 1 0 1 0 \n"
     ]
    }
   ],
   "source": [
    "# 0\n",
    "# 1 0\n",
    "# 0 1 0\n",
    "# 1 0 1 0\n",
    "# 0 1 0 1 0\n",
    "\n",
    "for i in range(6):\n",
    "#     print(i)\n",
    "    for j in range(i):\n",
    "#         print('j = {} , i = {} '.format(j, i), end = '')\n",
    "#         if(i%2 == 0):\n",
    "        print((j+1)%2 if i%2 == 0 else j%2 , end = ' ')\n",
    "    print()\n",
    "    "
   ]
  },
  {
   "cell_type": "code",
   "execution_count": 93,
   "metadata": {},
   "outputs": [
    {
     "name": "stdout",
     "output_type": "stream",
     "text": [
      "01 02 03 04 05 \n",
      "06 07 08 09 10 \n",
      "11 12 13 14 15 \n",
      "16 17 18 19 20 \n",
      "21 22 23 24 25 \n"
     ]
    }
   ],
   "source": [
    "# 01 02 03 04 05      \n",
    "# 06 07 08 09 10      \n",
    "# 11 12 13 14 15      \n",
    "# 16 17 18 19 20      \n",
    "# 21 22 23 24 25      \n",
    "num = 1\n",
    "for i in range(5):\n",
    "    for j in range(5):\n",
    "        print('{:02d}'.format(num), end = ' ')\n",
    "        num += 1\n",
    "    print()"
   ]
  },
  {
   "cell_type": "code",
   "execution_count": 94,
   "metadata": {},
   "outputs": [
    {
     "name": "stdout",
     "output_type": "stream",
     "text": [
      "1 0 1 0 1 \n",
      "0 1 0 1 \n",
      "1 0 1 \n",
      "0 1 \n",
      "1 \n"
     ]
    }
   ],
   "source": [
    "# 1 0 1 0 1 \n",
    "# 0 1 0 1 \n",
    "# 1 0 1 \n",
    "# 0 1 \n",
    "# 1 \n",
    "for i in range(5,0,-1):\n",
    "    for j in range(i):\n",
    "        print(i%2 if j%2== 0 else (i+1)%2, end = ' ')\n",
    "    print()"
   ]
  },
  {
   "cell_type": "code",
   "execution_count": 3,
   "metadata": {},
   "outputs": [
    {
     "name": "stdout",
     "output_type": "stream",
     "text": [
      "\n",
      "1 \n",
      "1   \n",
      "1   1 \n",
      "1   1   \n"
     ]
    }
   ],
   "source": [
    "# e)                  f)              g)                  h)\n",
    "#       1             * *   * *       01 02 03 04 05      2\n",
    "#    1    1           *  * *  *       05 04 03 02 01      2 4\n",
    "#   1   1   1         *   *   *       02 04 06 08 10      2 4 8\n",
    "# 1   1   1   1       *       *       10 08 06 04 02      2 4 8 16\n",
    "#                     *       *       03 06 09 12 15      2 4 8 16 32\n",
    "#                                     15 12 09 06 03      2 4 8 16 32 64\n",
    "\n",
    "for i in range(5):\n",
    "    for j in range(i):\n",
    "        print('1' if j%2==0 else ' ', end = ' ')\n",
    "    print()"
   ]
  },
  {
   "cell_type": "code",
   "execution_count": 2,
   "metadata": {},
   "outputs": [
    {
     "name": "stdout",
     "output_type": "stream",
     "text": [
      "Enter 10 numbers: \n",
      "Enter number 1: \n"
     ]
    },
    {
     "name": "stdin",
     "output_type": "stream",
     "text": [
      " 99\n"
     ]
    },
    {
     "name": "stdout",
     "output_type": "stream",
     "text": [
      "Enter number 2: \n"
     ]
    },
    {
     "name": "stdin",
     "output_type": "stream",
     "text": [
      " -88\n"
     ]
    },
    {
     "name": "stdout",
     "output_type": "stream",
     "text": [
      "Enter number 3: \n"
     ]
    },
    {
     "name": "stdin",
     "output_type": "stream",
     "text": [
      " 64\n"
     ]
    },
    {
     "name": "stdout",
     "output_type": "stream",
     "text": [
      "Enter number 4: \n"
     ]
    },
    {
     "name": "stdin",
     "output_type": "stream",
     "text": [
      " 55\n"
     ]
    },
    {
     "name": "stdout",
     "output_type": "stream",
     "text": [
      "Enter number 5: \n"
     ]
    },
    {
     "name": "stdin",
     "output_type": "stream",
     "text": [
      " 11\n"
     ]
    },
    {
     "name": "stdout",
     "output_type": "stream",
     "text": [
      "Enter number 6: \n"
     ]
    },
    {
     "name": "stdin",
     "output_type": "stream",
     "text": [
      " 34\n"
     ]
    },
    {
     "name": "stdout",
     "output_type": "stream",
     "text": [
      "Enter number 7: \n"
     ]
    },
    {
     "name": "stdin",
     "output_type": "stream",
     "text": [
      " -98\n"
     ]
    },
    {
     "name": "stdout",
     "output_type": "stream",
     "text": [
      "Enter number 8: \n"
     ]
    },
    {
     "name": "stdin",
     "output_type": "stream",
     "text": [
      " 65\n"
     ]
    },
    {
     "name": "stdout",
     "output_type": "stream",
     "text": [
      "Enter number 9: \n"
     ]
    },
    {
     "name": "stdin",
     "output_type": "stream",
     "text": [
      " 34\n"
     ]
    },
    {
     "name": "stdout",
     "output_type": "stream",
     "text": [
      "Enter number 10: \n"
     ]
    },
    {
     "name": "stdin",
     "output_type": "stream",
     "text": [
      " -11\n"
     ]
    },
    {
     "name": "stdout",
     "output_type": "stream",
     "text": [
      "Max number is : 99\n",
      "Min number is : -98\n"
     ]
    }
   ],
   "source": [
    "l = []\n",
    "max = 0\n",
    "min = 0\n",
    "print('Enter 10 numbers: ')\n",
    "for i in range(10):\n",
    "    print('Enter number {}: '.format(i+1))\n",
    "    l.append(int(input()))\n",
    "for n in l:\n",
    "    if(n>max):\n",
    "        max = n\n",
    "    if(n <min):\n",
    "        min = n\n",
    "print('Max number is : {}'.format(max))\n",
    "print('Min number is : {}'.format(min))"
   ]
  },
  {
   "cell_type": "code",
   "execution_count": 43,
   "metadata": {},
   "outputs": [
    {
     "name": "stdout",
     "output_type": "stream",
     "text": [
      "No\n"
     ]
    }
   ],
   "source": [
    "vowels = ['a','e','i','o','u']\n",
    "s = 'Hello how are you'\n",
    "b = set(vowels).intersection(s.lower())\n",
    "print('Yes' if len(b) == len(vowels) else 'No')"
   ]
  },
  {
   "cell_type": "code",
   "execution_count": null,
   "metadata": {},
   "outputs": [],
   "source": []
  },
  {
   "cell_type": "code",
   "execution_count": null,
   "metadata": {},
   "outputs": [],
   "source": []
  }
 ],
 "metadata": {
  "kernelspec": {
   "display_name": "Python 3",
   "language": "python",
   "name": "python3"
  },
  "language_info": {
   "codemirror_mode": {
    "name": "ipython",
    "version": 3
   },
   "file_extension": ".py",
   "mimetype": "text/x-python",
   "name": "python",
   "nbconvert_exporter": "python",
   "pygments_lexer": "ipython3",
   "version": "3.6.7"
  }
 },
 "nbformat": 4,
 "nbformat_minor": 2
}
